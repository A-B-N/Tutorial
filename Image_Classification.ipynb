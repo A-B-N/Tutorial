{
 "cells": [
  {
   "cell_type": "markdown",
   "metadata": {},
   "source": [
    "# Image Classification"
   ]
  },
  {
   "cell_type": "code",
   "execution_count": 51,
   "metadata": {},
   "outputs": [],
   "source": [
    "#importing all necessary libraries\n",
    "\n",
    "import glob\n",
    "import matplotlib.image as mpimg\n",
    "import matplotlib.pyplot as plt\n",
    "import cv2\n",
    "import numpy as np\n",
    "from skimage.feature import hog\n",
    "import time\n",
    "import pandas as pd\n",
    "from sklearn.preprocessing import StandardScaler\n",
    "from sklearn.model_selection import train_test_split\n",
    "from sklearn.svm import SVC\n",
    "from sklearn.neighbors import KNeighborsClassifier\n",
    "from sklearn.ensemble import RandomForestClassifier\n",
    "from sklearn.ensemble import ExtraTreesClassifier\n",
    "from scipy.ndimage.measurements import label\n",
    "from sklearn.metrics import  accuracy_score, classification_report,f1_score"
   ]
  },
  {
   "cell_type": "code",
   "execution_count": 52,
   "metadata": {},
   "outputs": [],
   "source": [
    "#loading the train data\n",
    "train_dat = glob.glob('traffic/train/*.jpg')\n"
   ]
  },
  {
   "cell_type": "code",
   "execution_count": 53,
   "metadata": {},
   "outputs": [],
   "source": [
    "#defining color histogram function for feature extraction\n",
    "def color_hist(img, nbins=32):\n",
    "    ch1 = np.histogram(img[:,:,0], bins=nbins, range=(0, 256))[0]#We need only the histogram, no bins edges\n",
    "    ch2 = np.histogram(img[:,:,1], bins=nbins, range=(0, 256))[0]\n",
    "    ch3 = np.histogram(img[:,:,2], bins=nbins, range=(0, 256))[0]\n",
    "    hist = np.hstack((ch1, ch2, ch3))\n",
    "    return hist"
   ]
  },
  {
   "cell_type": "code",
   "execution_count": 54,
   "metadata": {},
   "outputs": [],
   "source": [
    "#extracting features of images one by one using color histogram technique\n",
    "def describe(image, mask = None):\n",
    "    file_features = []\n",
    "    for file in image:\n",
    "        image = mpimg.imread(file)\n",
    "        hist = cv2.calcHist([image], [0, 1, 2], mask, [8,8,8], [0, 256, 0, 256, 0, 256])\n",
    "        #cv2.normalize(hist, hist)\n",
    "        file_features.append(hist.flatten())\n",
    "    return file_features"
   ]
  },
  {
   "cell_type": "code",
   "execution_count": 55,
   "metadata": {},
   "outputs": [],
   "source": [
    "#extracting the features for training images and scaling it using standard scaler\n",
    "train_features = describe(train_dat)\n",
    "\n",
    "train_array = np.array(train_features)\n",
    "\n",
    "X_scaler = StandardScaler().fit(train_array)\n",
    "scaled_train = X_scaler.transform(train_array)"
   ]
  },
  {
   "cell_type": "code",
   "execution_count": 56,
   "metadata": {},
   "outputs": [],
   "source": [
    "#loading the train labels and appending it with their corresponding images forming a data frame\n",
    "trainlabels = pd.read_csv('traffic/train.labels',\n",
    "                          header=None, names =['labels'])\n",
    "target = []\n",
    "for x, value in np.ndenumerate(trainlabels):\n",
    "    target.append(value)\n",
    "y = target\n",
    "train_labels =  np.array(y).reshape(len(y),1)"
   ]
  },
  {
   "cell_type": "code",
   "execution_count": 57,
   "metadata": {},
   "outputs": [],
   "source": [
    "#loading the test data\n",
    "test_dat = glob.glob('traffic/test/*.jpg')\n",
    "\n"
   ]
  },
  {
   "cell_type": "code",
   "execution_count": 58,
   "metadata": {},
   "outputs": [],
   "source": [
    "#extracting the features for test images and scaling it using standard scaler\n",
    "test_features = describe(test_dat)\n",
    "test_array = np.array(test_features)\n",
    "X_scaler = StandardScaler().fit(test_array)\n",
    "scaled_test = X_scaler.transform(test_array)"
   ]
  },
  {
   "cell_type": "code",
   "execution_count": 43,
   "metadata": {},
   "outputs": [],
   "source": [
    "testlabels = pd.read_csv('traffic/test.labels',header=None, names =['labels'])\n",
    "target = []\n",
    "for x, value in np.ndenumerate(testlabels):\n",
    "    target.append(value)\n",
    "y = target\n",
    "test_labels = np.array(y).reshape(len(y),1)"
   ]
  },
  {
   "cell_type": "code",
   "execution_count": 46,
   "metadata": {},
   "outputs": [],
   "source": [
    "SVMC = SVC(kernel='poly',\n",
    "              C=998144.773878184,\n",
    "              gamma=0.139581940130327,\n",
    "              class_weight='balanced', probability=True, random_state=8)"
   ]
  },
  {
   "cell_type": "markdown",
   "metadata": {},
   "source": [
    "Three different classifiers were tested using traffic small data and Extra trees Classifier was selected for the final classification based on its F1- Score."
   ]
  },
  {
   "cell_type": "code",
   "execution_count": 32,
   "metadata": {},
   "outputs": [
    {
     "name": "stderr",
     "output_type": "stream",
     "text": [
      "C:\\ProgramData\\Anaconda3\\lib\\site-packages\\sklearn\\utils\\validation.py:578: DataConversionWarning: A column-vector y was passed when a 1d array was expected. Please change the shape of y to (n_samples, ), for example using ravel().\n",
      "  y = column_or_1d(y, warn=True)\n"
     ]
    },
    {
     "name": "stdout",
     "output_type": "stream",
     "text": [
      "F1 Score:  0.6633101055394452\n"
     ]
    }
   ],
   "source": [
    "#SVM\n",
    "SVMC.fit(scaled_train,trainlabels)\n",
    "pred = SVMC.predict(scaled_test)\n",
    "\n",
    "print(\"F1 Score: \", f1_score(testlabels,pred, average='weighted'))"
   ]
  },
  {
   "cell_type": "code",
   "execution_count": 33,
   "metadata": {},
   "outputs": [
    {
     "name": "stderr",
     "output_type": "stream",
     "text": [
      "C:\\ProgramData\\Anaconda3\\lib\\site-packages\\ipykernel_launcher.py:2: DataConversionWarning: A column-vector y was passed when a 1d array was expected. Please change the shape of y to (n_samples,), for example using ravel().\n",
      "  \n"
     ]
    },
    {
     "name": "stdout",
     "output_type": "stream",
     "text": [
      "F1 Score:  0.7012356102387276\n"
     ]
    },
    {
     "name": "stderr",
     "output_type": "stream",
     "text": [
      "C:\\ProgramData\\Anaconda3\\lib\\site-packages\\sklearn\\metrics\\classification.py:1135: UndefinedMetricWarning: F-score is ill-defined and being set to 0.0 in labels with no predicted samples.\n",
      "  'precision', 'predicted', average, warn_for)\n"
     ]
    }
   ],
   "source": [
    "#Extra Trees Classifier\n",
    "model = ExtraTreesClassifier(n_estimators=120, max_features=20,random_state=7)\n",
    "model.fit(scaled_train, trainlabels)\n",
    "pred = model.predict(scaled_test)\n",
    "print(\"F1 Score: \", f1_score(testlabels,pred, average='weighted'))\n"
   ]
  },
  {
   "cell_type": "code",
   "execution_count": 34,
   "metadata": {},
   "outputs": [
    {
     "name": "stderr",
     "output_type": "stream",
     "text": [
      "C:\\ProgramData\\Anaconda3\\lib\\site-packages\\ipykernel_launcher.py:2: DataConversionWarning: A column-vector y was passed when a 1d array was expected. Please change the shape of y to (n_samples, ), for example using ravel().\n",
      "  \n"
     ]
    },
    {
     "name": "stdout",
     "output_type": "stream",
     "text": [
      "F1 Score:  0.6408489505377466\n"
     ]
    },
    {
     "name": "stderr",
     "output_type": "stream",
     "text": [
      "C:\\ProgramData\\Anaconda3\\lib\\site-packages\\sklearn\\metrics\\classification.py:1135: UndefinedMetricWarning: F-score is ill-defined and being set to 0.0 in labels with no predicted samples.\n",
      "  'precision', 'predicted', average, warn_for)\n"
     ]
    }
   ],
   "source": [
    "#K Nearest Neighbor Classifier\n",
    "knn = KNeighborsClassifier(n_neighbors=21)\n",
    "knn.fit(scaled_train,trainlabels)\n",
    "pred = knn.predict(scaled_test)\n",
    "print(\"F1 Score: \", f1_score(testlabels,pred, average='weighted'))\n"
   ]
  },
  {
   "cell_type": "code",
   "execution_count": 61,
   "metadata": {},
   "outputs": [
    {
     "name": "stderr",
     "output_type": "stream",
     "text": [
      "C:\\ProgramData\\Anaconda3\\lib\\site-packages\\ipykernel_launcher.py:3: DataConversionWarning: A column-vector y was passed when a 1d array was expected. Please change the shape of y to (n_samples,), for example using ravel().\n",
      "  This is separate from the ipykernel package so we can avoid doing imports until\n"
     ]
    }
   ],
   "source": [
    "#Final classification by Extra Trees Classifier \n",
    "model = ExtraTreesClassifier(n_estimators=120, max_features=27,random_state=7)\n",
    "model.fit(scaled_train, trainlabels)\n",
    "pred = model.predict(scaled_test)\n",
    "f= open(\"Prediction11.dat\",\"w+\")\n",
    "for val in pred:\n",
    "    f.write(str(int(val)) + \"\\n\")\n",
    "f.close()\n"
   ]
  },
  {
   "cell_type": "code",
   "execution_count": null,
   "metadata": {},
   "outputs": [],
   "source": []
  }
 ],
 "metadata": {
  "kernelspec": {
   "display_name": "Python 3",
   "language": "python",
   "name": "python3"
  },
  "language_info": {
   "codemirror_mode": {
    "name": "ipython",
    "version": 3
   },
   "file_extension": ".py",
   "mimetype": "text/x-python",
   "name": "python",
   "nbconvert_exporter": "python",
   "pygments_lexer": "ipython3",
   "version": "3.6.5"
  }
 },
 "nbformat": 4,
 "nbformat_minor": 2
}
